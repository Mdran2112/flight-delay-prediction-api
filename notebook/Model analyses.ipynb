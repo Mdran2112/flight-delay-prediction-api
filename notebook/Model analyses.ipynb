{
 "cells": [
  {
   "cell_type": "markdown",
   "id": "ae5816c2-344f-4c0f-91cb-1da8c1c959a4",
   "metadata": {},
   "source": [
    "Para este ejercicio se han propuesto cinco modelos entrenados, utilizando dos algoritmos distintos: Logistic Regression y XGBoost. Los cinco modelos tienen una performance bastante pobre, principalmente debido a la poca capacidad de predecir un vuelo atrasado (True Positive, de ahora en mas TP). En general los modelos analizados son\n",
    "buenos prediciendo casos de vuelos puntuales (True Negative), poseen una tasa muy baja de falsos postivos (FP), pero por otro lado poseen una alta tasa de falsos negativos (FN).\n",
    "\n",
    "De los cinco modelos propuestos el que pareciera tener mejor performance es el XGBoost con upsampling, ya que al normalizar la matriz de confusión encontramos que el porcentaje de TP es 19%, manteniendo los TN en 93%. Sin embargo creo que el análisis de resultados no es válido ya que el upsampling fue realizado antes de realizar el train-test split. El upsampling debe realizarse luego del splitting y sobre los datos de train, ya que de lo contrario hay altas chances de que el modelo esté expuesto a \"data leakage\", i.e., observaciones de entrenamiento que estarán repetidos en el test set.\n",
    "\n",
    "Por lo tanto, elegiremos el modelo XGBoost con optimización de hiperparámetros mediante GridSearch: éste modelo obtuvo una tasa de TN del 99& y una tasa de TN del 4%.\n"
   ]
  },
  {
   "cell_type": "markdown",
   "id": "b39a8a33-af80-40c1-b288-cdacbd62f34c",
   "metadata": {
    "tags": []
   },
   "source": [
    "Como mejora, se propone:\n",
    "\n",
    "    1. Utilizar un modelo XGBoost con el mejor set de hiperparámetros obtenidos: {'learning_rate': 0.1, 'n_estimators': 100, 'subsample': 0.5}\n",
    "    \n",
    "    2. Corregir el upsampling para que sólo se realice sobre los datos de entrenamiento.\n",
    "    \n",
    "    3. Modificar el threshold de predicción: Por defecto en los clasificadores binarios se considera que cuando \n",
    "    el score de predicción de la clase \"positiva\" es mayor a 0.5, entonces la predicción de la obervación es \n",
    "    de dicha clase. Sin embargo modificar este valor nos puede ayudar a disminuir los FN, aunque a expensas de aumentar los FP.\n",
    "        \n",
    "    4. Explorar qué sucede si agregamos como predictor adicional una variable de tipo numérica, por ejemplo la hora de vuelo."
   ]
  },
  {
   "cell_type": "markdown",
   "id": "90f689ec-9c34-4193-8a9f-2da33f6fe431",
   "metadata": {
    "tags": []
   },
   "source": [
    "con los parámetros {'learning_rate': 0.1, 'n_estimators': 100, 'subsample': 0.5} (obtenidos de la optimización de hiperparámetros mediante el método GridSearch)"
   ]
  },
  {
   "cell_type": "code",
   "execution_count": 4,
   "id": "5c5632a5-c1f2-440e-87f3-8291bb64a791",
   "metadata": {
    "tags": []
   },
   "outputs": [],
   "source": [
    "import pandas as pd\n",
    "from sklearn.utils import resample, shuffle\n",
    "from sklearn.model_selection import train_test_split\n",
    "from sklearn.metrics import confusion_matrix, classification_report\n",
    "\n",
    "import matplotlib.pyplot as plt\n",
    "import numpy as np\n",
    "\n",
    "from sklearn.preprocessing import OneHotEncoder, StandardScaler\n",
    "from sklearn.compose import ColumnTransformer\n",
    "from sklearn.pipeline import Pipeline\n",
    "from sklearn.tree import DecisionTreeClassifier\n",
    "import xgboost as xgb\n",
    "\n",
    "import os\n",
    "import json\n",
    "from datetime import datetime\n",
    "import joblib"
   ]
  },
  {
   "cell_type": "code",
   "execution_count": 5,
   "id": "fa8186aa-8197-41ae-936b-d41d9fa4ce9c",
   "metadata": {
    "tags": []
   },
   "outputs": [
    {
     "name": "stderr",
     "output_type": "stream",
     "text": [
      "/tmp/ipykernel_19534/3779635517.py:2: DtypeWarning: Columns (1,6) have mixed types. Specify dtype option on import or set low_memory=False.\n",
      "  df = pd.read_csv('features.csv')\n"
     ]
    },
    {
     "data": {
      "text/html": [
       "<div>\n",
       "<style scoped>\n",
       "    .dataframe tbody tr th:only-of-type {\n",
       "        vertical-align: middle;\n",
       "    }\n",
       "\n",
       "    .dataframe tbody tr th {\n",
       "        vertical-align: top;\n",
       "    }\n",
       "\n",
       "    .dataframe thead th {\n",
       "        text-align: right;\n",
       "    }\n",
       "</style>\n",
       "<table border=\"1\" class=\"dataframe\">\n",
       "  <thead>\n",
       "    <tr style=\"text-align: right;\">\n",
       "      <th></th>\n",
       "      <th>Fecha-I</th>\n",
       "      <th>Vlo-I</th>\n",
       "      <th>Ori-I</th>\n",
       "      <th>Des-I</th>\n",
       "      <th>Emp-I</th>\n",
       "      <th>Fecha-O</th>\n",
       "      <th>Vlo-O</th>\n",
       "      <th>Ori-O</th>\n",
       "      <th>Des-O</th>\n",
       "      <th>Emp-O</th>\n",
       "      <th>...</th>\n",
       "      <th>DIANOM</th>\n",
       "      <th>TIPOVUELO</th>\n",
       "      <th>OPERA</th>\n",
       "      <th>SIGLAORI</th>\n",
       "      <th>SIGLADES</th>\n",
       "      <th>temporada_alta</th>\n",
       "      <th>dif_min</th>\n",
       "      <th>atraso_15</th>\n",
       "      <th>periodo_dia</th>\n",
       "      <th>hour</th>\n",
       "    </tr>\n",
       "  </thead>\n",
       "  <tbody>\n",
       "    <tr>\n",
       "      <th>13375</th>\n",
       "      <td>2017-03-24 07:30:00</td>\n",
       "      <td>142</td>\n",
       "      <td>SCEL</td>\n",
       "      <td>SCFA</td>\n",
       "      <td>SKU</td>\n",
       "      <td>2017-03-24 07:29:00</td>\n",
       "      <td>142</td>\n",
       "      <td>SCEL</td>\n",
       "      <td>SCFA</td>\n",
       "      <td>SKU</td>\n",
       "      <td>...</td>\n",
       "      <td>Viernes</td>\n",
       "      <td>N</td>\n",
       "      <td>Sky Airline</td>\n",
       "      <td>Santiago</td>\n",
       "      <td>Antofagasta</td>\n",
       "      <td>0</td>\n",
       "      <td>-1.0</td>\n",
       "      <td>0</td>\n",
       "      <td>mañana</td>\n",
       "      <td>7</td>\n",
       "    </tr>\n",
       "    <tr>\n",
       "      <th>35799</th>\n",
       "      <td>2017-07-27 21:06:00</td>\n",
       "      <td>221</td>\n",
       "      <td>SCEL</td>\n",
       "      <td>SCIE</td>\n",
       "      <td>LAN</td>\n",
       "      <td>2017-07-27 21:09:00</td>\n",
       "      <td>221</td>\n",
       "      <td>SCEL</td>\n",
       "      <td>SCIE</td>\n",
       "      <td>LXP</td>\n",
       "      <td>...</td>\n",
       "      <td>Jueves</td>\n",
       "      <td>N</td>\n",
       "      <td>Grupo LATAM</td>\n",
       "      <td>Santiago</td>\n",
       "      <td>Concepcion</td>\n",
       "      <td>1</td>\n",
       "      <td>3.0</td>\n",
       "      <td>0</td>\n",
       "      <td>noche</td>\n",
       "      <td>21</td>\n",
       "    </tr>\n",
       "    <tr>\n",
       "      <th>48176</th>\n",
       "      <td>2017-09-13 01:50:00</td>\n",
       "      <td>380</td>\n",
       "      <td>SCEL</td>\n",
       "      <td>SCAR</td>\n",
       "      <td>LAN</td>\n",
       "      <td>2017-09-13 01:54:00</td>\n",
       "      <td>380</td>\n",
       "      <td>SCEL</td>\n",
       "      <td>SCAR</td>\n",
       "      <td>LXP</td>\n",
       "      <td>...</td>\n",
       "      <td>Miercoles</td>\n",
       "      <td>N</td>\n",
       "      <td>Grupo LATAM</td>\n",
       "      <td>Santiago</td>\n",
       "      <td>Arica</td>\n",
       "      <td>1</td>\n",
       "      <td>4.0</td>\n",
       "      <td>0</td>\n",
       "      <td>noche</td>\n",
       "      <td>1</td>\n",
       "    </tr>\n",
       "    <tr>\n",
       "      <th>58675</th>\n",
       "      <td>2017-11-03 06:35:00</td>\n",
       "      <td>160</td>\n",
       "      <td>SCEL</td>\n",
       "      <td>SCDA</td>\n",
       "      <td>LAN</td>\n",
       "      <td>2017-11-03 06:35:00</td>\n",
       "      <td>160</td>\n",
       "      <td>SCEL</td>\n",
       "      <td>SCDA</td>\n",
       "      <td>LAN</td>\n",
       "      <td>...</td>\n",
       "      <td>Viernes</td>\n",
       "      <td>N</td>\n",
       "      <td>Grupo LATAM</td>\n",
       "      <td>Santiago</td>\n",
       "      <td>Iquique</td>\n",
       "      <td>0</td>\n",
       "      <td>0.0</td>\n",
       "      <td>0</td>\n",
       "      <td>mañana</td>\n",
       "      <td>6</td>\n",
       "    </tr>\n",
       "    <tr>\n",
       "      <th>23374</th>\n",
       "      <td>2017-05-29 10:40:00</td>\n",
       "      <td>43</td>\n",
       "      <td>SCEL</td>\n",
       "      <td>SCVD</td>\n",
       "      <td>SKU</td>\n",
       "      <td>2017-05-29 10:35:00</td>\n",
       "      <td>43</td>\n",
       "      <td>SCEL</td>\n",
       "      <td>SCVD</td>\n",
       "      <td>SKU</td>\n",
       "      <td>...</td>\n",
       "      <td>Lunes</td>\n",
       "      <td>N</td>\n",
       "      <td>Sky Airline</td>\n",
       "      <td>Santiago</td>\n",
       "      <td>Valdivia</td>\n",
       "      <td>0</td>\n",
       "      <td>-5.0</td>\n",
       "      <td>0</td>\n",
       "      <td>mañana</td>\n",
       "      <td>10</td>\n",
       "    </tr>\n",
       "  </tbody>\n",
       "</table>\n",
       "<p>5 rows × 23 columns</p>\n",
       "</div>"
      ],
      "text/plain": [
       "                  Fecha-I Vlo-I Ori-I Des-I Emp-I              Fecha-O Vlo-O  \\\n",
       "13375 2017-03-24 07:30:00   142  SCEL  SCFA   SKU  2017-03-24 07:29:00   142   \n",
       "35799 2017-07-27 21:06:00   221  SCEL  SCIE   LAN  2017-07-27 21:09:00   221   \n",
       "48176 2017-09-13 01:50:00   380  SCEL  SCAR   LAN  2017-09-13 01:54:00   380   \n",
       "58675 2017-11-03 06:35:00   160  SCEL  SCDA   LAN  2017-11-03 06:35:00   160   \n",
       "23374 2017-05-29 10:40:00    43  SCEL  SCVD   SKU  2017-05-29 10:35:00    43   \n",
       "\n",
       "      Ori-O Des-O Emp-O  ...     DIANOM  TIPOVUELO        OPERA  SIGLAORI  \\\n",
       "13375  SCEL  SCFA   SKU  ...    Viernes          N  Sky Airline  Santiago   \n",
       "35799  SCEL  SCIE   LXP  ...     Jueves          N  Grupo LATAM  Santiago   \n",
       "48176  SCEL  SCAR   LXP  ...  Miercoles          N  Grupo LATAM  Santiago   \n",
       "58675  SCEL  SCDA   LAN  ...    Viernes          N  Grupo LATAM  Santiago   \n",
       "23374  SCEL  SCVD   SKU  ...      Lunes          N  Sky Airline  Santiago   \n",
       "\n",
       "          SIGLADES temporada_alta dif_min atraso_15  periodo_dia  hour  \n",
       "13375  Antofagasta              0    -1.0         0       mañana     7  \n",
       "35799   Concepcion              1     3.0         0        noche    21  \n",
       "48176        Arica              1     4.0         0        noche     1  \n",
       "58675      Iquique              0     0.0         0       mañana     6  \n",
       "23374     Valdivia              0    -5.0         0       mañana    10  \n",
       "\n",
       "[5 rows x 23 columns]"
      ]
     },
     "execution_count": 5,
     "metadata": {},
     "output_type": "execute_result"
    }
   ],
   "source": [
    "\n",
    "# Load features from cv\n",
    "df = pd.read_csv('features.csv')\n",
    "\n",
    "# Add an extra numerical feature: hour\n",
    "df[\"Fecha-I\"] = pd.to_datetime(df[\"Fecha-I\"])\n",
    "df[\"hour\"] = df[\"Fecha-I\"].dt.hour\n",
    "\n",
    "data = shuffle(df, random_state = 111) \n",
    "data.head()"
   ]
  },
  {
   "cell_type": "markdown",
   "id": "a778551d-ab21-43a5-bab3-dcf6c8f1fb27",
   "metadata": {
    "tags": []
   },
   "source": [
    "#### Useful functions"
   ]
  },
  {
   "cell_type": "code",
   "execution_count": 6,
   "id": "eadb40a8-6330-4de0-8636-1c9bf16fde6f",
   "metadata": {
    "tags": []
   },
   "outputs": [],
   "source": [
    "\n",
    "CATEGORICAL_COLS = ['OPERA', 'TIPOVUELO', 'MES'] # categorical features\n",
    "#NUMERIC_COLS = [\"hour\"] # numerical feature\n",
    "\n",
    "MODEL_FEATURES = CATEGORICAL_COLS# + NUMERIC_COLS\n",
    "BEST_PARAMS = {'learning_rate': 0.1, 'n_estimators': 100, 'subsample': 0.5} # best hiperparameters obtained before\n",
    "TARGET_LABEL = \"atraso_15\" # target label\n",
    "\n",
    "def upsample(data):\n",
    "    \"\"\"\n",
    "    Upsamples the class '1' data.\n",
    "    \"\"\"\n",
    "\n",
    "    data_no_retraso = data[data[TARGET_LABEL] == 0]\n",
    "    data_atraso = data[data[TARGET_LABEL] == 1]\n",
    "\n",
    "    data_atraso_upsampled = resample(data_atraso, \n",
    "                                     replace = True,     # sample with replacement\n",
    "                                     n_samples = 30000,    # to match majority class\n",
    "                                     random_state = 42) # reproducible results\n",
    "    \n",
    "\n",
    "    data_upsampled = pd.concat([data_no_retraso, data_atraso_upsampled])\n",
    "    return data_upsampled\n",
    "\n",
    "def postproc_preds(class_preds, th=0.7):\n",
    "    \"\"\"\n",
    "    prediction postprocessing: if class prediction score is greater than threshold, we will say that the\n",
    "    observation belongs to the '1' class, otherwise the observation will be asigned to the '0' class.\n",
    "    \"\"\"\n",
    "    y_predict_class = [1 if score > th else 0 for score in class_preds]\n",
    "    return y_predict_class\n",
    "\n",
    "def get_pipeline(numeric_cols = None):\n",
    "    \"\"\"\n",
    "    Builds a pipeline that consists in:\n",
    "     * preprocessing steps: standard scaler for numerical features (if included) and one hot encoding for \n",
    "       categorical features.\n",
    "     * classifier step: predictions of the preprocessed data.\n",
    "     \n",
    "     Returns a Pipeline object.\n",
    "     \n",
    "    \"\"\"\n",
    "    \n",
    "    transformers=[\n",
    "            (\"scaler\", StandardScaler(), numeric_cols),\n",
    "            (\"cat\", OneHotEncoder(handle_unknown=\"ignore\"), CATEGORICAL_COLS),\n",
    "        ] if numeric_cols else [(\"cat\", OneHotEncoder(handle_unknown=\"ignore\"), CATEGORICAL_COLS)]\n",
    "\n",
    "    preprocessor = ColumnTransformer(\n",
    "        transformers=transformers\n",
    "    )\n",
    "\n",
    "\n",
    "    pipe = Pipeline(\n",
    "        steps=[\n",
    "            (\"prepro\", preprocessor),\n",
    "            (\"classifier\", xgb.XGBClassifier(random_state=1, max_depth = 10, \n",
    "                                             **BEST_PARAMS))\n",
    "        ]\n",
    "    )\n",
    "    return pipe\n",
    "\n",
    "def export_pipeline(pipeline, name, version, classes, postproc_type, postproc_params):\n",
    "    \"\"\"\n",
    "    Export the pipeline model package. The package consists in:\n",
    "     * compressed pipeline in .pkl format\n",
    "     * Pipeline metadata: contains name, version and output processing params. Thi information will be used\n",
    "       for configuring the prediction service.\n",
    "    \"\"\"\n",
    "\n",
    "    metadata = {\n",
    "       \"name\": name,\n",
    "       \"version\": version,\n",
    "       \"classes\": classes, \n",
    "       \"post_proc\": {\n",
    "          \"type\": postproc_type,\n",
    "          \"params\": postproc_params     \n",
    "       },\n",
    "       \"date\": datetime.now().strftime(\"%m/%d/%Y, %H:%M:%S\")\n",
    "    }\n",
    "    \n",
    "    os.makedirs(name, exist_ok=True)\n",
    "    \n",
    "    joblib.dump(pipeline, f\"{name}/{name}.pkl\", compress = 1)\n",
    "    \n",
    "    with open(f\"{name}/{name}_metadata.json\", 'w') as jfile:\n",
    "        json.dump(metadata, jfile, indent=4)\n",
    "    \n",
    "    \n"
   ]
  },
  {
   "cell_type": "markdown",
   "id": "84a363e0-21a8-46cc-a5d8-699551668c02",
   "metadata": {},
   "source": [
    "### 1) and 2) Train a XGBoost upsampling the train set."
   ]
  },
  {
   "cell_type": "code",
   "execution_count": 7,
   "id": "a1844244-f74b-4b4b-9adb-1c4d6e9131ec",
   "metadata": {
    "tags": []
   },
   "outputs": [
    {
     "name": "stdout",
     "output_type": "stream",
     "text": [
      "model score: 0.691\n"
     ]
    }
   ],
   "source": [
    "data = shuffle(df, random_state = 111)\n",
    "\n",
    "\n",
    "features = data[MODEL_FEATURES]\n",
    "label = data[TARGET_LABEL]\n",
    "\n",
    "\n",
    "x_train, x_test, y_train, y_test = train_test_split(features, label, test_size = 0.33, random_state = 42)\n",
    "\n",
    "upsample_train = upsample(pd.concat([x_train, y_train], axis=1))\n",
    "x_train, y_train = upsample_train[MODEL_FEATURES], upsample_train[TARGET_LABEL]\n",
    "\n",
    "pipe=get_pipeline()\n",
    "\n",
    "pipe.fit(x_train, y_train)\n",
    "print(\"model score: %.3f\" % pipe.score(x_test, y_test))"
   ]
  },
  {
   "cell_type": "code",
   "execution_count": 8,
   "id": "da1e0dca-38ad-456f-854b-4d5d02a52232",
   "metadata": {
    "tags": []
   },
   "outputs": [
    {
     "data": {
      "text/plain": [
       "array([[0.73547791, 0.26452209],\n",
       "       [0.51108404, 0.48891596]])"
      ]
     },
     "execution_count": 8,
     "metadata": {},
     "output_type": "execute_result"
    }
   ],
   "source": [
    "y_pred = pipe.predict(x_test)\n",
    "confusion_matrix(y_test, y_pred, normalize=\"true\")"
   ]
  },
  {
   "cell_type": "markdown",
   "id": "3f4bff55-f349-41b5-844c-74aca0c61b8b",
   "metadata": {},
   "source": [
    "We have an increase in the TP rate, but on the other hand the FP rate has increased too."
   ]
  },
  {
   "cell_type": "markdown",
   "id": "0e96f3b5-cf1a-4f6e-814d-2366ad9fcdab",
   "metadata": {},
   "source": [
    "### 3) Let's see what happen if we tune the threshold:"
   ]
  },
  {
   "cell_type": "code",
   "execution_count": 9,
   "id": "64cfcdd9-9f9a-41b6-8933-43dd608d0c24",
   "metadata": {
    "tags": []
   },
   "outputs": [],
   "source": [
    "\n",
    "tn_rates = []\n",
    "tp_rates = []\n",
    "\n",
    "ths = np.linspace(0,1,40)\n",
    "\n",
    "for th in ths:\n",
    "    y_pred = pipe.predict_proba(x_test) # get the scores for both classes\n",
    "    y_pred = postproc_preds(y_pred[:, 1], th=th)\n",
    "\n",
    "    cm = confusion_matrix(y_test, y_pred, normalize=\"true\")\n",
    "    tn_rates.append(cm[0][0])\n",
    "    tp_rates.append(cm[1][1])"
   ]
  },
  {
   "cell_type": "code",
   "execution_count": 10,
   "id": "3078dcaa-1bc7-42f3-a5e9-7343bd013f2e",
   "metadata": {
    "tags": []
   },
   "outputs": [
    {
     "data": {
      "text/plain": [
       "<matplotlib.legend.Legend at 0x7f9e05f9f670>"
      ]
     },
     "execution_count": 10,
     "metadata": {},
     "output_type": "execute_result"
    },
    {
     "data": {
      "image/png": "[encoded data removed]",
      "text/plain": [
       "<Figure size 640x480 with 1 Axes>"
      ]
     },
     "metadata": {},
     "output_type": "display_data"
    }
   ],
   "source": [
    "plt.plot(ths, tn_rates, label=\"TN rate\")\n",
    "plt.plot(ths, tp_rates, label=\"TP rate\")\n",
    "plt.xlabel(\"threshold\")\n",
    "plt.ylabel(\"rate\")\n",
    "plt.legend()"
   ]
  },
  {
   "cell_type": "markdown",
   "id": "7c09cc9a-da53-4167-9340-9c0db581a5a6",
   "metadata": {},
   "source": [
    "In the graphic above, we notice that we can make a balance between TP and TN by moving the threshold. \n",
    "I will chose a threshold 0.59, so the TN = 90% and TP 25%. This decision was based on the idea that we want to keep FP positive low (it may not be a good idea if we say to people that an airplane will be delayed, while in fact is arriving on time...), but with an increase in the TP rate. The TP rate is still quite low, although we have improved from 4% to 25% our power for predicting delayed flights."
   ]
  },
  {
   "cell_type": "code",
   "execution_count": 11,
   "id": "acd4594d-7622-4cbb-9bf7-201a12bf7a40",
   "metadata": {
    "tags": []
   },
   "outputs": [
    {
     "name": "stdout",
     "output_type": "stream",
     "text": [
      "              precision    recall  f1-score   support\n",
      "\n",
      "           0       0.84      0.90      0.87     18403\n",
      "           1       0.36      0.25      0.29      4105\n",
      "\n",
      "    accuracy                           0.78     22508\n",
      "   macro avg       0.60      0.58      0.58     22508\n",
      "weighted avg       0.75      0.78      0.77     22508\n",
      "\n"
     ]
    }
   ],
   "source": [
    "y_pred = pipe.predict_proba(x_test)\n",
    "y_pred = postproc_preds(y_pred[:, 1], th=0.59)\n",
    "\n",
    "print(classification_report(y_test, y_pred))"
   ]
  },
  {
   "cell_type": "code",
   "execution_count": 12,
   "id": "f5cbc781-df44-46d0-9387-63ffbc37cd18",
   "metadata": {},
   "outputs": [
    {
     "data": {
      "text/plain": [
       "array([[89.90382003, 10.09617997],\n",
       "       [74.88428745, 25.11571255]])"
      ]
     },
     "execution_count": 12,
     "metadata": {},
     "output_type": "execute_result"
    }
   ],
   "source": [
    "confusion_matrix(y_test, y_pred, normalize=\"true\") * 100"
   ]
  },
  {
   "cell_type": "markdown",
   "id": "6543c932-2171-458c-ac76-c9a4b19d45e8",
   "metadata": {},
   "source": [
    "_______________________________"
   ]
  },
  {
   "cell_type": "markdown",
   "id": "abac55ce-8a2e-4db3-9308-b3948f307abb",
   "metadata": {},
   "source": [
    "### 4) Let's see what happen if we include a numerical feature: hour."
   ]
  },
  {
   "cell_type": "code",
   "execution_count": 13,
   "id": "7946fe04-ff07-4bd1-a5f5-475fc7af7249",
   "metadata": {
    "tags": []
   },
   "outputs": [],
   "source": [
    "NUMERIC_COLS = [\"hour\"] # numerical feature\n",
    "\n",
    "MODEL_FEATURES = CATEGORICAL_COLS + NUMERIC_COLS # we redefine the model features"
   ]
  },
  {
   "cell_type": "code",
   "execution_count": 14,
   "id": "7a209477-6790-4625-a787-99cd2cb38f16",
   "metadata": {
    "tags": []
   },
   "outputs": [
    {
     "name": "stdout",
     "output_type": "stream",
     "text": [
      "model score: 0.698\n"
     ]
    }
   ],
   "source": [
    "features = data[MODEL_FEATURES]\n",
    "label = data[TARGET_LABEL]\n",
    "\n",
    "\n",
    "x_train, x_test, y_train, y_test = train_test_split(features, label, test_size = 0.33, random_state = 42)\n",
    "\n",
    "upsample_train = upsample(pd.concat([x_train, y_train], axis=1))\n",
    "x_train, y_train = upsample_train[MODEL_FEATURES], upsample_train[TARGET_LABEL]\n",
    "\n",
    "pipe=get_pipeline(numeric_cols=NUMERIC_COLS)\n",
    "\n",
    "pipe.fit(x_train, y_train)\n",
    "print(\"model score: %.3f\" % pipe.score(x_test, y_test))"
   ]
  },
  {
   "cell_type": "code",
   "execution_count": 15,
   "id": "3da3ca64-7555-4f42-8726-e1d3ebaaefe6",
   "metadata": {
    "tags": []
   },
   "outputs": [
    {
     "name": "stdout",
     "output_type": "stream",
     "text": [
      "              precision    recall  f1-score   support\n",
      "\n",
      "           0       0.85      0.90      0.88     18403\n",
      "           1       0.40      0.29      0.33      4105\n",
      "\n",
      "    accuracy                           0.79     22508\n",
      "   macro avg       0.62      0.60      0.60     22508\n",
      "weighted avg       0.77      0.79      0.78     22508\n",
      "\n"
     ]
    }
   ],
   "source": [
    "TH = 0.61\n",
    "y_pred = pipe.predict_proba(x_test)\n",
    "y_pred = postproc_preds(y_pred[:, 1], th=TH)\n",
    "\n",
    "print(classification_report(y_test, y_pred))"
   ]
  },
  {
   "cell_type": "markdown",
   "id": "ca5ce8df-6a20-4ed2-8ffb-fd24f48cec43",
   "metadata": {},
   "source": [
    "We see here that, using threshold = 0.61, we keep our TN rate (90%) but whe improve TP rate to 29%, i.e., this new feature allows us to gain 4% of accuracy for predicting delayed flights."
   ]
  },
  {
   "cell_type": "markdown",
   "id": "38c54ed2-323f-4dcb-bc9c-85942bff027c",
   "metadata": {},
   "source": [
    "### Export pipeline package"
   ]
  },
  {
   "cell_type": "code",
   "execution_count": 16,
   "id": "2252d24d-36cd-4cd2-a13b-6cbd2dd24944",
   "metadata": {
    "tags": []
   },
   "outputs": [],
   "source": [
    "export_pipeline(pipe, \"xgboost_pipeline\", \"v0\", \n",
    "                classes = [\"on_time\", \"delayed\"],\n",
    "                postproc_type=\"threshold\", \n",
    "                postproc_params={\"th\": TH})"
   ]
  },
  {
   "cell_type": "code",
   "execution_count": 167,
   "id": "59127962-7fd8-42e5-9abe-86f085135b5d",
   "metadata": {
    "tags": []
   },
   "outputs": [
    {
     "data": {
      "text/html": [
       "<style>#sk-container-id-2 {color: black;background-color: white;}#sk-container-id-2 pre{padding: 0;}#sk-container-id-2 div.sk-toggleable {background-color: white;}#sk-container-id-2 label.sk-toggleable__label {cursor: pointer;display: block;width: 100%;margin-bottom: 0;padding: 0.3em;box-sizing: border-box;text-align: center;}#sk-container-id-2 label.sk-toggleable__label-arrow:before {content: \"▸\";float: left;margin-right: 0.25em;color: #696969;}#sk-container-id-2 label.sk-toggleable__label-arrow:hover:before {color: black;}#sk-container-id-2 div.sk-estimator:hover label.sk-toggleable__label-arrow:before {color: black;}#sk-container-id-2 div.sk-toggleable__content {max-height: 0;max-width: 0;overflow: hidden;text-align: left;background-color: #f0f8ff;}#sk-container-id-2 div.sk-toggleable__content pre {margin: 0.2em;color: black;border-radius: 0.25em;background-color: #f0f8ff;}#sk-container-id-2 input.sk-toggleable__control:checked~div.sk-toggleable__content {max-height: 200px;max-width: 100%;overflow: auto;}#sk-container-id-2 input.sk-toggleable__control:checked~label.sk-toggleable__label-arrow:before {content: \"▾\";}#sk-container-id-2 div.sk-estimator input.sk-toggleable__control:checked~label.sk-toggleable__label {background-color: #d4ebff;}#sk-container-id-2 div.sk-label input.sk-toggleable__control:checked~label.sk-toggleable__label {background-color: #d4ebff;}#sk-container-id-2 input.sk-hidden--visually {border: 0;clip: rect(1px 1px 1px 1px);clip: rect(1px, 1px, 1px, 1px);height: 1px;margin: -1px;overflow: hidden;padding: 0;position: absolute;width: 1px;}#sk-container-id-2 div.sk-estimator {font-family: monospace;background-color: #f0f8ff;border: 1px dotted black;border-radius: 0.25em;box-sizing: border-box;margin-bottom: 0.5em;}#sk-container-id-2 div.sk-estimator:hover {background-color: #d4ebff;}#sk-container-id-2 div.sk-parallel-item::after {content: \"\";width: 100%;border-bottom: 1px solid gray;flex-grow: 1;}#sk-container-id-2 div.sk-label:hover label.sk-toggleable__label {background-color: #d4ebff;}#sk-container-id-2 div.sk-serial::before {content: \"\";position: absolute;border-left: 1px solid gray;box-sizing: border-box;top: 0;bottom: 0;left: 50%;z-index: 0;}#sk-container-id-2 div.sk-serial {display: flex;flex-direction: column;align-items: center;background-color: white;padding-right: 0.2em;padding-left: 0.2em;position: relative;}#sk-container-id-2 div.sk-item {position: relative;z-index: 1;}#sk-container-id-2 div.sk-parallel {display: flex;align-items: stretch;justify-content: center;background-color: white;position: relative;}#sk-container-id-2 div.sk-item::before, #sk-container-id-2 div.sk-parallel-item::before {content: \"\";position: absolute;border-left: 1px solid gray;box-sizing: border-box;top: 0;bottom: 0;left: 50%;z-index: -1;}#sk-container-id-2 div.sk-parallel-item {display: flex;flex-direction: column;z-index: 1;position: relative;background-color: white;}#sk-container-id-2 div.sk-parallel-item:first-child::after {align-self: flex-end;width: 50%;}#sk-container-id-2 div.sk-parallel-item:last-child::after {align-self: flex-start;width: 50%;}#sk-container-id-2 div.sk-parallel-item:only-child::after {width: 0;}#sk-container-id-2 div.sk-dashed-wrapped {border: 1px dashed gray;margin: 0 0.4em 0.5em 0.4em;box-sizing: border-box;padding-bottom: 0.4em;background-color: white;}#sk-container-id-2 div.sk-label label {font-family: monospace;font-weight: bold;display: inline-block;line-height: 1.2em;}#sk-container-id-2 div.sk-label-container {text-align: center;}#sk-container-id-2 div.sk-container {/* jupyter's `normalize.less` sets `[hidden] { display: none; }` but bootstrap.min.css set `[hidden] { display: none !important; }` so we also need the `!important` here to be able to override the default hidden behavior on the sphinx rendered scikit-learn.org. See: https://github.com/scikit-learn/scikit-learn/issues/21755 */display: inline-block !important;position: relative;}#sk-container-id-2 div.sk-text-repr-fallback {display: none;}</style><div id=\"sk-container-id-2\" class=\"sk-top-container\"><div class=\"sk-text-repr-fallback\"><pre>Pipeline(steps=[(&#x27;prepro&#x27;,\n",
       "                 ColumnTransformer(transformers=[(&#x27;scaler&#x27;, StandardScaler(),\n",
       "                                                  [&#x27;hour&#x27;]),\n",
       "                                                 (&#x27;cat&#x27;,\n",
       "                                                  OneHotEncoder(handle_unknown=&#x27;ignore&#x27;),\n",
       "                                                  [&#x27;OPERA&#x27;, &#x27;TIPOVUELO&#x27;,\n",
       "                                                   &#x27;MES&#x27;])])),\n",
       "                (&#x27;classifier&#x27;,\n",
       "                 XGBClassifier(base_score=None, booster=None, callbacks=None,\n",
       "                               colsample_bylevel=None, colsample_bynode=None,\n",
       "                               colsample_bytree=None,\n",
       "                               early_stopping_rounds=None,\n",
       "                               enable_cate...\n",
       "                               feature_types=None, gamma=None, gpu_id=None,\n",
       "                               grow_policy=None, importance_type=None,\n",
       "                               interaction_constraints=None, learning_rate=0.1,\n",
       "                               max_bin=None, max_cat_threshold=None,\n",
       "                               max_cat_to_onehot=None, max_delta_step=None,\n",
       "                               max_depth=10, max_leaves=None,\n",
       "                               min_child_weight=None, missing=nan,\n",
       "                               monotone_constraints=None, n_estimators=100,\n",
       "                               n_jobs=None, num_parallel_tree=None,\n",
       "                               predictor=None, random_state=1, ...))])</pre><b>In a Jupyter environment, please rerun this cell to show the HTML representation or trust the notebook. <br />On GitHub, the HTML representation is unable to render, please try loading this page with nbviewer.org.</b></div><div class=\"sk-container\" hidden><div class=\"sk-item sk-dashed-wrapped\"><div class=\"sk-label-container\"><div class=\"sk-label sk-toggleable\"><input class=\"sk-toggleable__control sk-hidden--visually\" id=\"sk-estimator-id-8\" type=\"checkbox\" ><label for=\"sk-estimator-id-8\" class=\"sk-toggleable__label sk-toggleable__label-arrow\">Pipeline</label><div class=\"sk-toggleable__content\"><pre>Pipeline(steps=[(&#x27;prepro&#x27;,\n",
       "                 ColumnTransformer(transformers=[(&#x27;scaler&#x27;, StandardScaler(),\n",
       "                                                  [&#x27;hour&#x27;]),\n",
       "                                                 (&#x27;cat&#x27;,\n",
       "                                                  OneHotEncoder(handle_unknown=&#x27;ignore&#x27;),\n",
       "                                                  [&#x27;OPERA&#x27;, &#x27;TIPOVUELO&#x27;,\n",
       "                                                   &#x27;MES&#x27;])])),\n",
       "                (&#x27;classifier&#x27;,\n",
       "                 XGBClassifier(base_score=None, booster=None, callbacks=None,\n",
       "                               colsample_bylevel=None, colsample_bynode=None,\n",
       "                               colsample_bytree=None,\n",
       "                               early_stopping_rounds=None,\n",
       "                               enable_cate...\n",
       "                               feature_types=None, gamma=None, gpu_id=None,\n",
       "                               grow_policy=None, importance_type=None,\n",
       "                               interaction_constraints=None, learning_rate=0.1,\n",
       "                               max_bin=None, max_cat_threshold=None,\n",
       "                               max_cat_to_onehot=None, max_delta_step=None,\n",
       "                               max_depth=10, max_leaves=None,\n",
       "                               min_child_weight=None, missing=nan,\n",
       "                               monotone_constraints=None, n_estimators=100,\n",
       "                               n_jobs=None, num_parallel_tree=None,\n",
       "                               predictor=None, random_state=1, ...))])</pre></div></div></div><div class=\"sk-serial\"><div class=\"sk-item sk-dashed-wrapped\"><div class=\"sk-label-container\"><div class=\"sk-label sk-toggleable\"><input class=\"sk-toggleable__control sk-hidden--visually\" id=\"sk-estimator-id-9\" type=\"checkbox\" ><label for=\"sk-estimator-id-9\" class=\"sk-toggleable__label sk-toggleable__label-arrow\">prepro: ColumnTransformer</label><div class=\"sk-toggleable__content\"><pre>ColumnTransformer(transformers=[(&#x27;scaler&#x27;, StandardScaler(), [&#x27;hour&#x27;]),\n",
       "                                (&#x27;cat&#x27;, OneHotEncoder(handle_unknown=&#x27;ignore&#x27;),\n",
       "                                 [&#x27;OPERA&#x27;, &#x27;TIPOVUELO&#x27;, &#x27;MES&#x27;])])</pre></div></div></div><div class=\"sk-parallel\"><div class=\"sk-parallel-item\"><div class=\"sk-item\"><div class=\"sk-label-container\"><div class=\"sk-label sk-toggleable\"><input class=\"sk-toggleable__control sk-hidden--visually\" id=\"sk-estimator-id-10\" type=\"checkbox\" ><label for=\"sk-estimator-id-10\" class=\"sk-toggleable__label sk-toggleable__label-arrow\">scaler</label><div class=\"sk-toggleable__content\"><pre>[&#x27;hour&#x27;]</pre></div></div></div><div class=\"sk-serial\"><div class=\"sk-item\"><div class=\"sk-estimator sk-toggleable\"><input class=\"sk-toggleable__control sk-hidden--visually\" id=\"sk-estimator-id-11\" type=\"checkbox\" ><label for=\"sk-estimator-id-11\" class=\"sk-toggleable__label sk-toggleable__label-arrow\">StandardScaler</label><div class=\"sk-toggleable__content\"><pre>StandardScaler()</pre></div></div></div></div></div></div><div class=\"sk-parallel-item\"><div class=\"sk-item\"><div class=\"sk-label-container\"><div class=\"sk-label sk-toggleable\"><input class=\"sk-toggleable__control sk-hidden--visually\" id=\"sk-estimator-id-12\" type=\"checkbox\" ><label for=\"sk-estimator-id-12\" class=\"sk-toggleable__label sk-toggleable__label-arrow\">cat</label><div class=\"sk-toggleable__content\"><pre>[&#x27;OPERA&#x27;, &#x27;TIPOVUELO&#x27;, &#x27;MES&#x27;]</pre></div></div></div><div class=\"sk-serial\"><div class=\"sk-item\"><div class=\"sk-estimator sk-toggleable\"><input class=\"sk-toggleable__control sk-hidden--visually\" id=\"sk-estimator-id-13\" type=\"checkbox\" ><label for=\"sk-estimator-id-13\" class=\"sk-toggleable__label sk-toggleable__label-arrow\">OneHotEncoder</label><div class=\"sk-toggleable__content\"><pre>OneHotEncoder(handle_unknown=&#x27;ignore&#x27;)</pre></div></div></div></div></div></div></div></div><div class=\"sk-item\"><div class=\"sk-estimator sk-toggleable\"><input class=\"sk-toggleable__control sk-hidden--visually\" id=\"sk-estimator-id-14\" type=\"checkbox\" ><label for=\"sk-estimator-id-14\" class=\"sk-toggleable__label sk-toggleable__label-arrow\">XGBClassifier</label><div class=\"sk-toggleable__content\"><pre>XGBClassifier(base_score=None, booster=None, callbacks=None,\n",
       "              colsample_bylevel=None, colsample_bynode=None,\n",
       "              colsample_bytree=None, early_stopping_rounds=None,\n",
       "              enable_categorical=False, eval_metric=None, feature_types=None,\n",
       "              gamma=None, gpu_id=None, grow_policy=None, importance_type=None,\n",
       "              interaction_constraints=None, learning_rate=0.1, max_bin=None,\n",
       "              max_cat_threshold=None, max_cat_to_onehot=None,\n",
       "              max_delta_step=None, max_depth=10, max_leaves=None,\n",
       "              min_child_weight=None, missing=nan, monotone_constraints=None,\n",
       "              n_estimators=100, n_jobs=None, num_parallel_tree=None,\n",
       "              predictor=None, random_state=1, ...)</pre></div></div></div></div></div></div></div>"
      ],
      "text/plain": [
       "Pipeline(steps=[('prepro',\n",
       "                 ColumnTransformer(transformers=[('scaler', StandardScaler(),\n",
       "                                                  ['hour']),\n",
       "                                                 ('cat',\n",
       "                                                  OneHotEncoder(handle_unknown='ignore'),\n",
       "                                                  ['OPERA', 'TIPOVUELO',\n",
       "                                                   'MES'])])),\n",
       "                ('classifier',\n",
       "                 XGBClassifier(base_score=None, booster=None, callbacks=None,\n",
       "                               colsample_bylevel=None, colsample_bynode=None,\n",
       "                               colsample_bytree=None,\n",
       "                               early_stopping_rounds=None,\n",
       "                               enable_cate...\n",
       "                               feature_types=None, gamma=None, gpu_id=None,\n",
       "                               grow_policy=None, importance_type=None,\n",
       "                               interaction_constraints=None, learning_rate=0.1,\n",
       "                               max_bin=None, max_cat_threshold=None,\n",
       "                               max_cat_to_onehot=None, max_delta_step=None,\n",
       "                               max_depth=10, max_leaves=None,\n",
       "                               min_child_weight=None, missing=nan,\n",
       "                               monotone_constraints=None, n_estimators=100,\n",
       "                               n_jobs=None, num_parallel_tree=None,\n",
       "                               predictor=None, random_state=1, ...))])"
      ]
     },
     "execution_count": 167,
     "metadata": {},
     "output_type": "execute_result"
    }
   ],
   "source": [
    "pipe"
   ]
  },
  {
   "cell_type": "code",
   "execution_count": null,
   "id": "5711566c-8df7-410a-b3be-fc28b29725f5",
   "metadata": {},
   "outputs": [],
   "source": []
  }
 ],
 "metadata": {
  "kernelspec": {
   "display_name": "Python 3 (ipykernel)",
   "language": "python",
   "name": "python3"
  },
  "language_info": {
   "codemirror_mode": {
    "name": "ipython",
    "version": 3
   },
   "file_extension": ".py",
   "mimetype": "text/x-python",
   "name": "python",
   "nbconvert_exporter": "python",
   "pygments_lexer": "ipython3",
   "version": "3.10.6"
  }
 },
 "nbformat": 4,
 "nbformat_minor": 5
}
